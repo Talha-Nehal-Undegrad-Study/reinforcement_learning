{
 "cells": [
  {
   "cell_type": "markdown",
   "id": "5e9351a0",
   "metadata": {},
   "source": [
    "# Temporal Difference Learning for 3D Tic Tac Toe\n",
    "\n",
    "This notebook contains the implementation of a Temporal Difference (TD) learning model using a Deep Q-Network (DQN) for playing 3D 4x4x4 Tic Tac Toe. The implementation is based on the approach outlined in the provided paper.\n"
   ]
  },
  {
   "cell_type": "code",
   "execution_count": 2,
   "id": "261768de",
   "metadata": {},
   "outputs": [],
   "source": [
    "# Import necessary libraries\n",
    "import numpy as np\n",
    "import os\n",
    "import random\n",
    "\n",
    "# Setting Directory\n",
    "os.chdir('C:/Users/Talha/OneDrive - Higher Education Commission/Documents/GitHub/reinforcement_learning/Project/')\n",
    "\n",
    "from python_scripts import state_formulation, utils, algorithm, tictactoe_4x4\n",
    "import torch\n",
    "import torch.nn as nn\n",
    "import torch.optim as optim\n"
   ]
  },
  {
   "cell_type": "code",
   "execution_count": 109,
   "id": "8171162f",
   "metadata": {},
   "outputs": [],
   "source": [
    "def get_rows(input_tensor):\n",
    "    # Get diagonals (across 2 faces),digonals (across 3 faces) and horizontal and vertical rows\n",
    "    diag_two_faces = []\n",
    "    diag_two_faces.extend(\n",
    "        [torch.diagonal(input_tensor[i, :, :]), torch.diagonal(input_tensor[:, i, :]), torch.diagonal(input_tensor[:, :, i]), \n",
    "        torch.diagonal(torch.fliplr(input_tensor)[i, :, :]), torch.diagonal(torch.fliplr(input_tensor)[:, i, :]), torch.diagonal(torch.fliplr(input_tensor)[:, :, i])] \n",
    "        for i in range(input_tensor.shape[0]))\n",
    "    diag_two_faces = [item for sublist in diag_two_faces for item in sublist]\n",
    "    \n",
    "    diag_three_faces = []\n",
    "    diag_three_faces = [[[[input_tensor[i, i, i], input_tensor[3 - i, i, i], input_tensor[i, 3 - i, i], input_tensor[i, i, 3 - i]] \n",
    "                          for i in range(4)][k][j] for j in range(4) for k in range(4)][l:l + 4] for l in range(0, 16, 4)]\n",
    "    diag_three_faces = [torch.tensor([t.item() for t in row]) for row in diag_three_faces]\n",
    "\n",
    "    horizontal_and_vertical_rows = []\n",
    "    horizontal_and_vertical_rows.extend([input_tensor[i, j, :], input_tensor[i, :, j], input_tensor[:, i, j]]\n",
    "                                        for i in range(input_tensor.shape[0]) for j in range(input_tensor.shape[0]))\n",
    "    horizontal_and_vertical_rows = [item for sublist in horizontal_and_vertical_rows for item in sublist]\n",
    "    \n",
    "    return horizontal_and_vertical_rows + diag_two_faces + diag_three_faces"
   ]
  },
  {
   "cell_type": "code",
   "execution_count": 110,
   "id": "2790dc16",
   "metadata": {},
   "outputs": [
    {
     "name": "stdout",
     "output_type": "stream",
     "text": [
      "Number of rows: 76\n"
     ]
    }
   ],
   "source": [
    "input_tensor = torch.arange(64).view(4, 4, 4)\n",
    "overall_rows = get_rows(input_tensor)\n",
    "print(f'Number of rows: {len(overall_rows)}')"
   ]
  },
  {
   "cell_type": "code",
   "execution_count": null,
   "id": "18fe2ea5",
   "metadata": {},
   "outputs": [],
   "source": [
    "class StructuredLinearLayer(nn.Module):\n",
    "    def __init__(self, num_rows, board_size):\n",
    "        super(StructuredLinearLayer, self).__init__()\n",
    "        self.num_rows = num_rows\n",
    "        self.board_size = board_size\n",
    "    \n",
    "    def createlayer():\n",
    "        \n",
    "        pass"
   ]
  },
  {
   "cell_type": "code",
   "execution_count": 3,
   "id": "cec3583e",
   "metadata": {},
   "outputs": [],
   "source": [
    "# Define the MLP architecture for the TD learning model\n",
    "class TDNetwork(nn.Module, tictactoe_4x4.TicTacToe4x4x4):\n",
    "    def __init__(self, input_size, hidden_sizes, output_size):\n",
    "        # Note: Hidden Sizes will be a list. According to the paper, it will be 304, 32\n",
    "        super(TDNetwork, self).__init__()\n",
    "        layers = []\n",
    "        for hidden_size in hidden_sizes:\n",
    "            layers.append(nn.Linear(input_size, hidden_size))\n",
    "            layers.append(nn.ReLU())\n",
    "            input_size = hidden_size\n",
    "        layers.append(nn.Linear(hidden_sizes[-1], output_size))\n",
    "        self.layers = nn.Sequential(*layers)\n",
    "\n",
    "    def forward(self, x):\n",
    "        feature_map = get_rows(x)\n",
    "        return self.layers(x)\n"
   ]
  },
  {
   "cell_type": "code",
   "execution_count": 4,
   "id": "b5c406d8",
   "metadata": {},
   "outputs": [],
   "source": [
    "# Initialize the TD learning model\n",
    "input_size = 64  # Assuming each space on the 4x4x4 board is represented as a binary (occupied or not)\n",
    "hidden_sizes = [128, 128]  # Hidden layers sizes as per the paper's experimentation\n",
    "output_size = 1  # Output size representing the value function\n",
    "model = TDNetwork(input_size, hidden_sizes, output_size)\n"
   ]
  },
  {
   "cell_type": "code",
   "execution_count": 5,
   "id": "0e6fb543",
   "metadata": {},
   "outputs": [],
   "source": [
    "# Training parameters\n",
    "learning_rate = 0.001\n",
    "optimizer = optim.Adam(model.parameters(), lr=learning_rate)\n",
    "loss_function = nn.MSELoss()\n"
   ]
  },
  {
   "cell_type": "code",
   "execution_count": 6,
   "id": "8b63194f",
   "metadata": {},
   "outputs": [],
   "source": [
    "# Placeholder for the training loop\n",
    "def train_td_model(model, num_episodes):\n",
    "    for episode in range(num_episodes):\n",
    "        # The training loop should include:\n",
    "        # 1. Interacting with the environment\n",
    "        # 2. Computing TD target and TD error\n",
    "        # 3. Updating the model using backpropagation\n",
    "        pass\n",
    "\n",
    "# Placeholder for saving the model\n",
    "def save_model(model, path):\n",
    "    torch.save(model.state_dict(), path)\n"
   ]
  },
  {
   "cell_type": "code",
   "execution_count": 13,
   "id": "38ef1c38",
   "metadata": {},
   "outputs": [
    {
     "data": {
      "text/plain": [
       "'C:/Users/Talha/OneDrive - Higher Education Commission/Documents/GitHub/reinforcement_learning/Project/Phase_3_3D_Tic_Tac_Toe/models/td_tictactoe_model.pth'"
      ]
     },
     "execution_count": 13,
     "metadata": {},
     "output_type": "execute_result"
    }
   ],
   "source": [
    "# Example usage\n",
    "num_episodes = 1000  # Number of episodes for training\n",
    "train_td_model(model, num_episodes)  # Train the model\n",
    "\n",
    "# Save the trained model\n",
    "os.makedirs('C:/Users/Talha/OneDrive - Higher Education Commission/Documents/GitHub/reinforcement_learning/Project/Phase_3_3D_Tic_Tac_Toe/models', exist_ok = True)\n",
    "model_path = 'C:/Users/Talha/OneDrive - Higher Education Commission/Documents/GitHub/reinforcement_learning/Project/Phase_3_3D_Tic_Tac_Toe/models/td_tictactoe_model.pth'\n",
    "save_model(model, model_path)\n",
    "\n",
    "model_path"
   ]
  },
  {
   "cell_type": "code",
   "execution_count": null,
   "id": "79d4e555",
   "metadata": {},
   "outputs": [],
   "source": []
  }
 ],
 "metadata": {
  "kernelspec": {
   "display_name": "Python 3",
   "language": "python",
   "name": "python3"
  },
  "language_info": {
   "codemirror_mode": {
    "name": "ipython",
    "version": 3
   },
   "file_extension": ".py",
   "mimetype": "text/x-python",
   "name": "python",
   "nbconvert_exporter": "python",
   "pygments_lexer": "ipython3",
   "version": "3.11.0"
  }
 },
 "nbformat": 4,
 "nbformat_minor": 5
}
